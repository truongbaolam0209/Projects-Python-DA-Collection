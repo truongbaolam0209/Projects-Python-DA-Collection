{
 "cells": [
  {
   "cell_type": "code",
   "execution_count": 26,
   "id": "59102a11-e317-44a7-9660-015d9dde7bab",
   "metadata": {},
   "outputs": [
    {
     "data": {
      "text/html": [
       "<style>#notebook { padding-top: 0px !important; } .container { width: 100% !important; } .end_space { min-height: 0px !important; } table, tr, td { border: 1px  black solid !important; color: black; }th { border: 1px  black solid !important; color: #130f40; background: #ECFED7; }</style>"
      ],
      "text/plain": [
       "<IPython.core.display.HTML object>"
      ]
     },
     "metadata": {},
     "output_type": "display_data"
    }
   ],
   "source": [
    "import pandas as pd\n",
    "import seaborn as sns\n",
    "import matplotlib.pyplot as plt\n",
    "import numpy as np\n",
    "\n",
    "from IPython.display import display, HTML\n",
    "\n",
    "display(HTML(\n",
    "    '<style>'\n",
    "        '#notebook { padding-top: 0px !important; } ' \n",
    "        '.container { width: 100% !important; } '\n",
    "        '.end_space { min-height: 0px !important; } '\n",
    "        'table, tr, td { border: 1px  black solid !important; color: black; }'\n",
    "        'th { border: 1px  black solid !important; color: #130f40; background: #ECFED7; }'\n",
    "    '</style>'\n",
    "))"
   ]
  },
  {
   "cell_type": "code",
   "execution_count": 27,
   "id": "0d3e9b43-9492-4766-bb8b-d6d95a21cab4",
   "metadata": {},
   "outputs": [],
   "source": [
    "uber_15 = pd.read_csv(r'../../000_Datasets/Datasets_Uber_NY/uber-raw-data-janjune-15.csv', encoding='utf-8')"
   ]
  },
  {
   "cell_type": "code",
   "execution_count": 28,
   "id": "ec328b3a-7f43-43fc-b95b-98c886713a1a",
   "metadata": {},
   "outputs": [],
   "source": [
    "uber_15['Pickup_date'] = pd.to_datetime(uber_15['Pickup_date'], format ='%Y-%m-%d %H:%M:%S')"
   ]
  },
  {
   "cell_type": "code",
   "execution_count": 29,
   "id": "a0d5e7f8-10fb-4a64-9f40-0f27698fa00d",
   "metadata": {},
   "outputs": [
    {
     "data": {
      "text/html": [
       "<div>\n",
       "<style scoped>\n",
       "    .dataframe tbody tr th:only-of-type {\n",
       "        vertical-align: middle;\n",
       "    }\n",
       "\n",
       "    .dataframe tbody tr th {\n",
       "        vertical-align: top;\n",
       "    }\n",
       "\n",
       "    .dataframe thead th {\n",
       "        text-align: right;\n",
       "    }\n",
       "</style>\n",
       "<table border=\"1\" class=\"dataframe\">\n",
       "  <thead>\n",
       "    <tr style=\"text-align: right;\">\n",
       "      <th></th>\n",
       "      <th>Dispatching_base_num</th>\n",
       "      <th>Pickup_date</th>\n",
       "      <th>Affiliated_base_num</th>\n",
       "      <th>locationID</th>\n",
       "    </tr>\n",
       "  </thead>\n",
       "  <tbody>\n",
       "    <tr>\n",
       "      <th>0</th>\n",
       "      <td>B02617</td>\n",
       "      <td>2015-05-17 09:47:00</td>\n",
       "      <td>B02617</td>\n",
       "      <td>141</td>\n",
       "    </tr>\n",
       "    <tr>\n",
       "      <th>1</th>\n",
       "      <td>B02617</td>\n",
       "      <td>2015-05-17 09:47:00</td>\n",
       "      <td>B02617</td>\n",
       "      <td>65</td>\n",
       "    </tr>\n",
       "    <tr>\n",
       "      <th>2</th>\n",
       "      <td>B02617</td>\n",
       "      <td>2015-05-17 09:47:00</td>\n",
       "      <td>B02617</td>\n",
       "      <td>100</td>\n",
       "    </tr>\n",
       "    <tr>\n",
       "      <th>3</th>\n",
       "      <td>B02617</td>\n",
       "      <td>2015-05-17 09:47:00</td>\n",
       "      <td>B02774</td>\n",
       "      <td>80</td>\n",
       "    </tr>\n",
       "    <tr>\n",
       "      <th>4</th>\n",
       "      <td>B02617</td>\n",
       "      <td>2015-05-17 09:47:00</td>\n",
       "      <td>B02617</td>\n",
       "      <td>90</td>\n",
       "    </tr>\n",
       "    <tr>\n",
       "      <th>...</th>\n",
       "      <td>...</td>\n",
       "      <td>...</td>\n",
       "      <td>...</td>\n",
       "      <td>...</td>\n",
       "    </tr>\n",
       "    <tr>\n",
       "      <th>14270474</th>\n",
       "      <td>B02765</td>\n",
       "      <td>2015-05-08 15:43:00</td>\n",
       "      <td>B02765</td>\n",
       "      <td>186</td>\n",
       "    </tr>\n",
       "    <tr>\n",
       "      <th>14270475</th>\n",
       "      <td>B02765</td>\n",
       "      <td>2015-05-08 15:43:00</td>\n",
       "      <td>B02765</td>\n",
       "      <td>263</td>\n",
       "    </tr>\n",
       "    <tr>\n",
       "      <th>14270476</th>\n",
       "      <td>B02765</td>\n",
       "      <td>2015-05-08 15:43:00</td>\n",
       "      <td>B02765</td>\n",
       "      <td>90</td>\n",
       "    </tr>\n",
       "    <tr>\n",
       "      <th>14270477</th>\n",
       "      <td>B02765</td>\n",
       "      <td>2015-05-08 15:44:00</td>\n",
       "      <td>B01899</td>\n",
       "      <td>45</td>\n",
       "    </tr>\n",
       "    <tr>\n",
       "      <th>14270478</th>\n",
       "      <td>B02765</td>\n",
       "      <td>2015-05-08 15:44:00</td>\n",
       "      <td>B02682</td>\n",
       "      <td>144</td>\n",
       "    </tr>\n",
       "  </tbody>\n",
       "</table>\n",
       "<p>14270479 rows × 4 columns</p>\n",
       "</div>"
      ],
      "text/plain": [
       "         Dispatching_base_num         Pickup_date Affiliated_base_num  \\\n",
       "0                      B02617 2015-05-17 09:47:00              B02617   \n",
       "1                      B02617 2015-05-17 09:47:00              B02617   \n",
       "2                      B02617 2015-05-17 09:47:00              B02617   \n",
       "3                      B02617 2015-05-17 09:47:00              B02774   \n",
       "4                      B02617 2015-05-17 09:47:00              B02617   \n",
       "...                       ...                 ...                 ...   \n",
       "14270474               B02765 2015-05-08 15:43:00              B02765   \n",
       "14270475               B02765 2015-05-08 15:43:00              B02765   \n",
       "14270476               B02765 2015-05-08 15:43:00              B02765   \n",
       "14270477               B02765 2015-05-08 15:44:00              B01899   \n",
       "14270478               B02765 2015-05-08 15:44:00              B02682   \n",
       "\n",
       "          locationID  \n",
       "0                141  \n",
       "1                 65  \n",
       "2                100  \n",
       "3                 80  \n",
       "4                 90  \n",
       "...              ...  \n",
       "14270474         186  \n",
       "14270475         263  \n",
       "14270476          90  \n",
       "14270477          45  \n",
       "14270478         144  \n",
       "\n",
       "[14270479 rows x 4 columns]"
      ]
     },
     "metadata": {},
     "output_type": "display_data"
    }
   ],
   "source": [
    "display(uber_15)"
   ]
  },
  {
   "cell_type": "code",
   "execution_count": 30,
   "id": "320a7eca-7b22-4d55-a423-eb8704f80783",
   "metadata": {},
   "outputs": [
    {
     "data": {
      "text/plain": [
       "898225"
      ]
     },
     "execution_count": 30,
     "metadata": {},
     "output_type": "execute_result"
    }
   ],
   "source": [
    "## getting count of total duplicated observations in your data\n",
    "uber_15.duplicated().sum()"
   ]
  },
  {
   "cell_type": "markdown",
   "id": "3f31fdb7-f633-46c4-b090-f482cf5fe698",
   "metadata": {},
   "source": [
    "# Which month have max. Uber pickups in New York City ?"
   ]
  },
  {
   "cell_type": "code",
   "execution_count": 31,
   "id": "5462605b-49eb-49a8-9c26-1c4a7ed62c28",
   "metadata": {},
   "outputs": [],
   "source": [
    "uber_15['Pickup_date']=pd.to_datetime(uber_15['Pickup_date'], format ='%Y-%m-%d %H:%M:%S' )"
   ]
  },
  {
   "cell_type": "code",
   "execution_count": 32,
   "id": "3c1074d3-622c-4c4b-a8c6-69b35a061312",
   "metadata": {},
   "outputs": [
    {
     "data": {
      "text/plain": [
       "dtype('<M8[ns]')"
      ]
     },
     "execution_count": 32,
     "metadata": {},
     "output_type": "execute_result"
    }
   ],
   "source": [
    "uber_15['Pickup_date'].dtype"
   ]
  },
  {
   "cell_type": "code",
   "execution_count": 33,
   "id": "69860c1f-ac33-487b-b513-cf999bd769d2",
   "metadata": {},
   "outputs": [],
   "source": [
    "## extracting month from 'Pickup_date'..\n",
    "uber_15['month']=uber_15['Pickup_date'].dt.month"
   ]
  },
  {
   "cell_type": "code",
   "execution_count": 34,
   "id": "272101c9-901e-4779-aec8-cbe0d8192cdb",
   "metadata": {},
   "outputs": [
    {
     "data": {
      "text/plain": [
       "<AxesSubplot:>"
      ]
     },
     "execution_count": 34,
     "metadata": {},
     "output_type": "execute_result"
    },
    {
     "data": {
      "image/png": "[encoded data removed]",
      "text/plain": [
       "<Figure size 432x288 with 1 Axes>"
      ]
     },
     "metadata": {
      "needs_background": "light"
     },
     "output_type": "display_data"
    }
   ],
   "source": [
    "uber_15['month'].value_counts().plot(kind='bar')"
   ]
  },
  {
   "cell_type": "markdown",
   "id": "1441cf0d-b0c3-445f-8551-365bd89b7e73",
   "metadata": {},
   "source": [
    "# Lets find out total trips for each month & each weekdays"
   ]
  },
  {
   "cell_type": "code",
   "execution_count": 35,
   "id": "1ca4663a-03f2-4f06-b28e-ed2065425146",
   "metadata": {},
   "outputs": [],
   "source": [
    "## extracting dervied features (weekday ,day ,hour ,month ,minute) from 'Pickup_date'..\n",
    "\n",
    "uber_15['weekday']=uber_15['Pickup_date'].dt.day_name()\n",
    "uber_15['day']=uber_15['Pickup_date'].dt.day\n",
    "uber_15['hour']=uber_15['Pickup_date'].dt.hour\n",
    "uber_15['month']=uber_15['Pickup_date'].dt.month\n",
    "uber_15['minute']=uber_15['Pickup_date'].dt.minute"
   ]
  },
  {
   "cell_type": "code",
   "execution_count": 36,
   "id": "678ae4c5-9c2f-4489-9dad-617196dac571",
   "metadata": {},
   "outputs": [
    {
     "data": {
      "text/html": [
       "<div>\n",
       "<style scoped>\n",
       "    .dataframe tbody tr th:only-of-type {\n",
       "        vertical-align: middle;\n",
       "    }\n",
       "\n",
       "    .dataframe tbody tr th {\n",
       "        vertical-align: top;\n",
       "    }\n",
       "\n",
       "    .dataframe thead th {\n",
       "        text-align: right;\n",
       "    }\n",
       "</style>\n",
       "<table border=\"1\" class=\"dataframe\">\n",
       "  <thead>\n",
       "    <tr style=\"text-align: right;\">\n",
       "      <th></th>\n",
       "      <th>Dispatching_base_num</th>\n",
       "      <th>Pickup_date</th>\n",
       "      <th>Affiliated_base_num</th>\n",
       "      <th>locationID</th>\n",
       "      <th>month</th>\n",
       "      <th>weekday</th>\n",
       "      <th>day</th>\n",
       "      <th>hour</th>\n",
       "      <th>minute</th>\n",
       "    </tr>\n",
       "  </thead>\n",
       "  <tbody>\n",
       "    <tr>\n",
       "      <th>0</th>\n",
       "      <td>B02617</td>\n",
       "      <td>2015-05-17 09:47:00</td>\n",
       "      <td>B02617</td>\n",
       "      <td>141</td>\n",
       "      <td>5</td>\n",
       "      <td>Sunday</td>\n",
       "      <td>17</td>\n",
       "      <td>9</td>\n",
       "      <td>47</td>\n",
       "    </tr>\n",
       "    <tr>\n",
       "      <th>1</th>\n",
       "      <td>B02617</td>\n",
       "      <td>2015-05-17 09:47:00</td>\n",
       "      <td>B02617</td>\n",
       "      <td>65</td>\n",
       "      <td>5</td>\n",
       "      <td>Sunday</td>\n",
       "      <td>17</td>\n",
       "      <td>9</td>\n",
       "      <td>47</td>\n",
       "    </tr>\n",
       "  </tbody>\n",
       "</table>\n",
       "</div>"
      ],
      "text/plain": [
       "  Dispatching_base_num         Pickup_date Affiliated_base_num  locationID  \\\n",
       "0               B02617 2015-05-17 09:47:00              B02617         141   \n",
       "1               B02617 2015-05-17 09:47:00              B02617          65   \n",
       "\n",
       "   month weekday  day  hour  minute  \n",
       "0      5  Sunday   17     9      47  \n",
       "1      5  Sunday   17     9      47  "
      ]
     },
     "execution_count": 36,
     "metadata": {},
     "output_type": "execute_result"
    }
   ],
   "source": [
    "uber_15.head(2)"
   ]
  },
  {
   "cell_type": "code",
   "execution_count": 37,
   "id": "bd292e1f-f262-4e0c-875e-4d36efe4cb4f",
   "metadata": {},
   "outputs": [
    {
     "data": {
      "text/html": [
       "<div>\n",
       "<style scoped>\n",
       "    .dataframe tbody tr th:only-of-type {\n",
       "        vertical-align: middle;\n",
       "    }\n",
       "\n",
       "    .dataframe tbody tr th {\n",
       "        vertical-align: top;\n",
       "    }\n",
       "\n",
       "    .dataframe thead th {\n",
       "        text-align: right;\n",
       "    }\n",
       "</style>\n",
       "<table border=\"1\" class=\"dataframe\">\n",
       "  <thead>\n",
       "    <tr style=\"text-align: right;\">\n",
       "      <th></th>\n",
       "      <th>month</th>\n",
       "      <th>weekday</th>\n",
       "      <th>size</th>\n",
       "    </tr>\n",
       "  </thead>\n",
       "  <tbody>\n",
       "    <tr>\n",
       "      <th>0</th>\n",
       "      <td>1</td>\n",
       "      <td>Friday</td>\n",
       "      <td>345532</td>\n",
       "    </tr>\n",
       "    <tr>\n",
       "      <th>1</th>\n",
       "      <td>1</td>\n",
       "      <td>Monday</td>\n",
       "      <td>194004</td>\n",
       "    </tr>\n",
       "    <tr>\n",
       "      <th>2</th>\n",
       "      <td>1</td>\n",
       "      <td>Saturday</td>\n",
       "      <td>392900</td>\n",
       "    </tr>\n",
       "    <tr>\n",
       "      <th>3</th>\n",
       "      <td>1</td>\n",
       "      <td>Sunday</td>\n",
       "      <td>234599</td>\n",
       "    </tr>\n",
       "    <tr>\n",
       "      <th>4</th>\n",
       "      <td>1</td>\n",
       "      <td>Thursday</td>\n",
       "      <td>336532</td>\n",
       "    </tr>\n",
       "  </tbody>\n",
       "</table>\n",
       "</div>"
      ],
      "text/plain": [
       "   month   weekday    size\n",
       "0      1    Friday  345532\n",
       "1      1    Monday  194004\n",
       "2      1  Saturday  392900\n",
       "3      1    Sunday  234599\n",
       "4      1  Thursday  336532"
      ]
     },
     "execution_count": 37,
     "metadata": {},
     "output_type": "execute_result"
    }
   ],
   "source": [
    "temp=uber_15.groupby(['month','weekday'],as_index=False).size()\n",
    "temp.head()"
   ]
  },
  {
   "cell_type": "code",
   "execution_count": 38,
   "id": "8d123a29-3d0d-4d82-857f-db95c28d44fd",
   "metadata": {},
   "outputs": [
    {
     "data": {
      "text/plain": [
       "array([1, 2, 3, 4, 5, 6], dtype=int64)"
      ]
     },
     "execution_count": 38,
     "metadata": {},
     "output_type": "execute_result"
    }
   ],
   "source": [
    "temp['month'].unique()"
   ]
  },
  {
   "cell_type": "code",
   "execution_count": 39,
   "id": "d097d387-9039-4687-9b13-7e42e9718127",
   "metadata": {},
   "outputs": [],
   "source": [
    "dict_month={1:'Jan', 2:'Feb', 3:'March', 4:'april', 5:'May', 6:'June'}"
   ]
  },
  {
   "cell_type": "code",
   "execution_count": 40,
   "id": "60f82051-ec42-4ff0-b1d6-42a9258f1120",
   "metadata": {},
   "outputs": [],
   "source": [
    "temp['month']=temp['month'].map(dict_month)"
   ]
  },
  {
   "cell_type": "code",
   "execution_count": 42,
   "id": "a4f57824-74da-4020-b455-8ed1993dfc5b",
   "metadata": {},
   "outputs": [
    {
     "data": {
      "text/plain": [
       "0       Jan\n",
       "1       Jan\n",
       "2       Jan\n",
       "3       Jan\n",
       "4       Jan\n",
       "5       Jan\n",
       "6       Jan\n",
       "7       Feb\n",
       "8       Feb\n",
       "9       Feb\n",
       "10      Feb\n",
       "11      Feb\n",
       "12      Feb\n",
       "13      Feb\n",
       "14    March\n",
       "15    March\n",
       "16    March\n",
       "17    March\n",
       "18    March\n",
       "19    March\n",
       "20    March\n",
       "21    april\n",
       "22    april\n",
       "23    april\n",
       "24    april\n",
       "25    april\n",
       "26    april\n",
       "27    april\n",
       "28      May\n",
       "29      May\n",
       "30      May\n",
       "31      May\n",
       "32      May\n",
       "33      May\n",
       "34      May\n",
       "35     June\n",
       "36     June\n",
       "37     June\n",
       "38     June\n",
       "39     June\n",
       "40     June\n",
       "41     June\n",
       "Name: month, dtype: object"
      ]
     },
     "execution_count": 42,
     "metadata": {},
     "output_type": "execute_result"
    }
   ],
   "source": [
    "temp['month']"
   ]
  },
  {
   "cell_type": "code",
   "execution_count": 43,
   "id": "04c28f53-ac40-4ee5-bc7e-6bd39b0b7d41",
   "metadata": {},
   "outputs": [
    {
     "data": {
      "text/plain": [
       "<AxesSubplot:xlabel='month', ylabel='size'>"
      ]
     },
     "execution_count": 43,
     "metadata": {},
     "output_type": "execute_result"
    },
    {
     "data": {
      "image/png": "[encoded data removed]",
      "text/plain": [
       "<Figure size 864x576 with 1 Axes>"
      ]
     },
     "metadata": {
      "needs_background": "light"
     },
     "output_type": "display_data"
    }
   ],
   "source": [
    "## create grouped bar chart ..\n",
    "\n",
    "plt.figure(figsize=(12,8))\n",
    "sns.barplot(x='month',y='size',hue='weekday',data=temp)"
   ]
  },
  {
   "cell_type": "markdown",
   "id": "4bb9e887-5a43-4f3f-8523-76c8cffb1a7d",
   "metadata": {},
   "source": [
    "# Lets find out hourly rush in New york city on all days"
   ]
  },
  {
   "cell_type": "code",
   "execution_count": null,
   "id": "90d8b166-f699-495f-b75b-62cae86b48c1",
   "metadata": {},
   "outputs": [],
   "source": [
    "summary=uber_15.groupby(['weekday','hour'],as_index=False).size()"
   ]
  },
  {
   "cell_type": "code",
   "execution_count": null,
   "id": "310adf8b-97a9-4b55-8d8b-ba54c52b82fa",
   "metadata": {},
   "outputs": [],
   "source": [
    "display(summary)"
   ]
  },
  {
   "cell_type": "code",
   "execution_count": null,
   "id": "9e7fbae0-2d76-49a5-8bed-c2f31b82bc87",
   "metadata": {},
   "outputs": [],
   "source": []
  },
  {
   "cell_type": "code",
   "execution_count": null,
   "id": "62747f1a-de68-4d28-b021-bd253a24a938",
   "metadata": {},
   "outputs": [],
   "source": [
    "## pointplot between 'hour' & 'size' for all the weekdays..\n",
    "\n",
    "plt.figure(figsize=(12,8))\n",
    "sns.pointplot(x='hour',y='size',hue='weekday',data=summary)"
   ]
  },
  {
   "cell_type": "code",
   "execution_count": null,
   "id": "e74d1468-388a-480e-9232-5df321ed1ac6",
   "metadata": {},
   "outputs": [],
   "source": []
  },
  {
   "cell_type": "markdown",
   "id": "cdeee438-c0eb-4d8b-8cc5-ba6c23e91b1a",
   "metadata": {},
   "source": []
  },
  {
   "cell_type": "code",
   "execution_count": null,
   "id": "1851cd53-c4f2-4c89-b9ca-2b8675579e8f",
   "metadata": {},
   "outputs": [],
   "source": []
  },
  {
   "cell_type": "code",
   "execution_count": null,
   "id": "0620a8b5-9d20-49ad-a3b7-a595d6275e4f",
   "metadata": {},
   "outputs": [],
   "source": []
  },
  {
   "cell_type": "code",
   "execution_count": null,
   "id": "0529686a-59ed-4f31-b77a-82e38a55cb6f",
   "metadata": {},
   "outputs": [],
   "source": []
  },
  {
   "cell_type": "code",
   "execution_count": null,
   "id": "ae72e27b-51c0-40a1-80aa-3d6c17be5a76",
   "metadata": {},
   "outputs": [],
   "source": []
  },
  {
   "cell_type": "code",
   "execution_count": null,
   "id": "04dca599-22f0-491c-bfd6-b2a3390b818a",
   "metadata": {},
   "outputs": [],
   "source": []
  },
  {
   "cell_type": "code",
   "execution_count": null,
   "id": "2385385c-55df-4dc3-aab1-d74473d14833",
   "metadata": {},
   "outputs": [],
   "source": []
  }
 ],
 "metadata": {
  "kernelspec": {
   "display_name": "Python 3 (ipykernel)",
   "language": "python",
   "name": "python3"
  },
  "language_info": {
   "codemirror_mode": {
    "name": "ipython",
    "version": 3
   },
   "file_extension": ".py",
   "mimetype": "text/x-python",
   "name": "python",
   "nbconvert_exporter": "python",
   "pygments_lexer": "ipython3",
   "version": "3.9.12"
  },
  "widgets": {
   "application/vnd.jupyter.widget-state+json": {
    "state": {},
    "version_major": 2,
    "version_minor": 0
   }
  }
 },
 "nbformat": 4,
 "nbformat_minor": 5
}
